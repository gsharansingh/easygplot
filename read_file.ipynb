{
 "cells": [
  {
   "cell_type": "markdown",
   "metadata": {},
   "source": [
    "# Read file using easygplot guide"
   ]
  },
  {
   "cell_type": "markdown",
   "metadata": {},
   "source": [
    "---------------------------------------"
   ]
  },
  {
   "cell_type": "markdown",
   "metadata": {},
   "source": [
    "## Reading a file with default parameters\n",
    "\n",
    "```\n",
    "labels = True, delimiter=\",\", set_index = 0, missing_data_handling_strategy = 'mean', skip_lines = None\n",
    "```"
   ]
  },
  {
   "cell_type": "code",
   "execution_count": 2,
   "metadata": {},
   "outputs": [
    {
     "name": "stdout",
     "output_type": "stream",
     "text": [
      "Data contains missing values. Here is the representation of missing values:\n",
      "NOTE: if the data has whole row or column as missing values, that row or column is already dropped!            \n",
      "For more information, check 'missing_data_handling_strategy' parameter in Docu String by: 'print(easygplot.read.CSV.__doc__)'\n"
     ]
    },
    {
     "data": {
      "image/png": "[encoded data removed]",
      "text/plain": [
       "<Figure size 432x288 with 1 Axes>"
      ]
     },
     "metadata": {
      "needs_background": "light"
     },
     "output_type": "display_data"
    }
   ],
   "source": [
    "from easygplot import read\n",
    "data_obj = read.CSV(\"gasprices.csv\")"
   ]
  },
  {
   "cell_type": "markdown",
   "metadata": {},
   "source": [
    "#### Indexing"
   ]
  },
  {
   "cell_type": "code",
   "execution_count": 3,
   "metadata": {},
   "outputs": [
    {
     "name": "stdout",
     "output_type": "stream",
     "text": [
      "(array([[2.34888889, 1.87      , 3.63      ],\n",
      "       [1.96      , 1.92      , 3.45      ],\n",
      "       [1.89      , 1.73      , 3.56      ],\n",
      "       [1.73      , 1.57      , 3.41      ],\n",
      "       [1.84      , 1.45      , 3.59      ],\n",
      "       [1.95      , 1.53      , 4.26      ],\n",
      "       [2.12      , 1.61      , 4.41      ],\n",
      "       [2.05      , 1.62      , 4.        ],\n",
      "       [1.63      , 1.38      , 3.87      ],\n",
      "       [1.72      , 1.52      , 3.85      ],\n",
      "       [1.94      , 1.86      , 3.8       ],\n",
      "       [1.71      , 1.72      , 3.51      ],\n",
      "       [1.76      , 1.69      , 3.62      ],\n",
      "       [2.19      , 1.99      , 4.35      ],\n",
      "       [2.72      , 2.37      , 4.99      ],\n",
      "       [3.23      , 2.89      , 5.46      ],\n",
      "       [3.54      , 3.26      , 5.88      ],\n",
      "       [3.85      , 3.59      , 6.6       ],\n",
      "       [4.45      , 4.08      , 7.51      ]]), (array([1990., 1991., 1992., 1993., 1994., 1995., 1996., 1997., 1998.,\n",
      "       1999., 2000., 2001., 2002., 2003., 2004., 2005., 2006., 2007.,\n",
      "       2008.]), ['Australia', 'Canada', 'France']))\n"
     ]
    }
   ],
   "source": [
    "print(data_obj[:3])"
   ]
  },
  {
   "cell_type": "markdown",
   "metadata": {},
   "source": [
    "*__Dataset__ at `index=2`*"
   ]
  },
  {
   "cell_type": "code",
   "execution_count": 4,
   "metadata": {
    "scrolled": true
   },
   "outputs": [
    {
     "name": "stdout",
     "output_type": "stream",
     "text": [
      "[3.63 3.45 3.56 3.41 3.59 4.26 4.41 4.   3.87 3.85 3.8  3.51 3.62 4.35\n",
      " 4.99 5.46 5.88 6.6  7.51]\n"
     ]
    }
   ],
   "source": [
    "print(data_obj[2][0])"
   ]
  },
  {
   "cell_type": "markdown",
   "metadata": {},
   "source": [
    "*__x_label__ at `index=2`*"
   ]
  },
  {
   "cell_type": "code",
   "execution_count": 5,
   "metadata": {},
   "outputs": [
    {
     "name": "stdout",
     "output_type": "stream",
     "text": [
      "[1990. 1991. 1992. 1993. 1994. 1995. 1996. 1997. 1998. 1999. 2000. 2001.\n",
      " 2002. 2003. 2004. 2005. 2006. 2007. 2008.]\n"
     ]
    }
   ],
   "source": [
    "print(data_obj[2][1][0])"
   ]
  },
  {
   "cell_type": "markdown",
   "metadata": {},
   "source": [
    "*__column__ at `index=2`*"
   ]
  },
  {
   "cell_type": "code",
   "execution_count": 6,
   "metadata": {},
   "outputs": [
    {
     "name": "stdout",
     "output_type": "stream",
     "text": [
      "France\n"
     ]
    }
   ],
   "source": [
    "print(data_obj[2][1][1])"
   ]
  },
  {
   "cell_type": "markdown",
   "metadata": {},
   "source": [
    "**Printing the object, result in outputting the columns names**"
   ]
  },
  {
   "cell_type": "code",
   "execution_count": 7,
   "metadata": {},
   "outputs": [
    {
     "name": "stdout",
     "output_type": "stream",
     "text": [
      "Columns: ['Year', 'Australia', 'Canada', 'France', 'Germany', 'Italy', 'Japan', 'Mexico', 'South Korea', 'UK', 'USA']\n"
     ]
    }
   ],
   "source": [
    "print(data_obj)"
   ]
  },
  {
   "cell_type": "markdown",
   "metadata": {},
   "source": [
    "**Printing the length will give the number of rows in the data**"
   ]
  },
  {
   "cell_type": "code",
   "execution_count": 8,
   "metadata": {},
   "outputs": [
    {
     "name": "stdout",
     "output_type": "stream",
     "text": [
      "19\n"
     ]
    }
   ],
   "source": [
    "print(len(data_obj))"
   ]
  },
  {
   "cell_type": "markdown",
   "metadata": {},
   "source": [
    "--------------------"
   ]
  },
  {
   "cell_type": "markdown",
   "metadata": {},
   "source": [
    "## Reading file without labels"
   ]
  },
  {
   "cell_type": "code",
   "execution_count": 9,
   "metadata": {},
   "outputs": [
    {
     "name": "stdout",
     "output_type": "stream",
     "text": [
      "Data contains missing values. Here is the representation of missing values:\n",
      "NOTE: if the data has whole row or column as missing values, that row or column is already dropped!            \n",
      "For more information, check 'missing_data_handling_strategy' parameter in Docu String by: 'print(easygplot.read.CSV.__doc__)'\n",
      "(array([[2.34888889, 1.87      , 3.63      ],\n",
      "       [1.96      , 1.92      , 3.45      ],\n",
      "       [1.89      , 1.73      , 3.56      ],\n",
      "       [1.73      , 1.57      , 3.41      ],\n",
      "       [1.84      , 1.45      , 3.59      ],\n",
      "       [1.95      , 1.53      , 4.26      ],\n",
      "       [2.12      , 1.61      , 4.41      ],\n",
      "       [2.05      , 1.62      , 4.        ],\n",
      "       [1.63      , 1.38      , 3.87      ],\n",
      "       [1.72      , 1.52      , 3.85      ],\n",
      "       [1.94      , 1.86      , 3.8       ],\n",
      "       [1.71      , 1.72      , 3.51      ],\n",
      "       [1.76      , 1.69      , 3.62      ],\n",
      "       [2.19      , 1.99      , 4.35      ],\n",
      "       [2.72      , 2.37      , 4.99      ],\n",
      "       [3.23      , 2.89      , 5.46      ],\n",
      "       [3.54      , 3.26      , 5.88      ],\n",
      "       [3.85      , 3.59      , 6.6       ],\n",
      "       [4.45      , 4.08      , 7.51      ]]), (array([1990., 1991., 1992., 1993., 1994., 1995., 1996., 1997., 1998.,\n",
      "       1999., 2000., 2001., 2002., 2003., 2004., 2005., 2006., 2007.,\n",
      "       2008.]), [0, 1, 2]))\n"
     ]
    },
    {
     "data": {
      "image/png": "[encoded data removed]",
      "text/plain": [
       "<Figure size 432x288 with 1 Axes>"
      ]
     },
     "metadata": {
      "needs_background": "light"
     },
     "output_type": "display_data"
    }
   ],
   "source": [
    "from easygplot import read\n",
    "data_obj = read.CSV(\"gasprices.csv\", labels = False)\n",
    "print(data_obj[:3])"
   ]
  },
  {
   "cell_type": "markdown",
   "metadata": {},
   "source": [
    "**NOTE**: the file `gasprices.csv` has labels, but when `labels = False`, it read it as None values (because the are strings) and discarded the first row since there is no numerical data."
   ]
  },
  {
   "cell_type": "markdown",
   "metadata": {},
   "source": [
    "------------"
   ]
  },
  {
   "cell_type": "markdown",
   "metadata": {},
   "source": [
    "## Reading a file with missing values"
   ]
  },
  {
   "cell_type": "code",
   "execution_count": 10,
   "metadata": {},
   "outputs": [
    {
     "name": "stdout",
     "output_type": "stream",
     "text": [
      "Data contains missing values. Here is the representation of missing values:\n",
      "NOTE: if the data has whole row or column as missing values, that row or column is already dropped!            \n",
      "For more information, check 'missing_data_handling_strategy' parameter in Docu String by: 'print(easygplot.read.CSV.__doc__)'\n"
     ]
    },
    {
     "data": {
      "image/png": "[encoded data removed]",
      "text/plain": [
       "<Figure size 432x288 with 1 Axes>"
      ]
     },
     "metadata": {
      "needs_background": "light"
     },
     "output_type": "display_data"
    }
   ],
   "source": [
    "from easygplot import read\n",
    "data_obj = read.CSV(\"gasprices.csv\", missing_data_handling_strategy = 'drop_row')"
   ]
  },
  {
   "cell_type": "code",
   "execution_count": 11,
   "metadata": {},
   "outputs": [
    {
     "name": "stdout",
     "output_type": "stream",
     "text": [
      "(array([[1.96, 1.92, 3.45],\n",
      "       [1.89, 1.73, 3.56],\n",
      "       [1.73, 1.57, 3.41],\n",
      "       [1.84, 1.45, 3.59],\n",
      "       [1.95, 1.53, 4.26],\n",
      "       [2.12, 1.61, 4.41],\n",
      "       [2.05, 1.62, 4.  ],\n",
      "       [1.63, 1.38, 3.87],\n",
      "       [1.72, 1.52, 3.85],\n",
      "       [1.94, 1.86, 3.8 ],\n",
      "       [1.71, 1.72, 3.51],\n",
      "       [1.76, 1.69, 3.62],\n",
      "       [2.19, 1.99, 4.35],\n",
      "       [2.72, 2.37, 4.99],\n",
      "       [3.23, 2.89, 5.46],\n",
      "       [3.54, 3.26, 5.88],\n",
      "       [3.85, 3.59, 6.6 ],\n",
      "       [4.45, 4.08, 7.51]]), (array([1991., 1992., 1993., 1994., 1995., 1996., 1997., 1998., 1999.,\n",
      "       2000., 2001., 2002., 2003., 2004., 2005., 2006., 2007., 2008.]), ['Australia', 'Canada', 'France']))\n"
     ]
    }
   ],
   "source": [
    "print(data_obj[:3])"
   ]
  },
  {
   "cell_type": "markdown",
   "metadata": {},
   "source": [
    "**_Here it can be seen that the first row which is missing one value, has been dropped._**"
   ]
  },
  {
   "cell_type": "markdown",
   "metadata": {},
   "source": [
    "**Stratergies for missing_data_handling_strategy**\n",
    "\n",
    "|Type|Description|\n",
    "|:-----|:-------|\n",
    "|'mean'|it will replace missing value using mean along column.|\n",
    "|'median'|it will replace missing value using median along column.|\n",
    "|'most_frequent'|it will replace missing value using the most frequent value along column.|\n",
    "|'constant'|it will replace missing value with fill_value.|\n",
    "|'drop_row'|it will drop the whole row containing missing value.|\n",
    "|'drop_column'|it will drop the whole column containing missing value.|"
   ]
  },
  {
   "cell_type": "markdown",
   "metadata": {},
   "source": [
    "------------"
   ]
  },
  {
   "cell_type": "markdown",
   "metadata": {},
   "source": [
    "## Additional Features\n",
    "\n",
    "1.  If you want x-axis' column index to be other than ${0^{th}}$ column, pass that column index. If you do not want any column index to be x-axis, pass 'None'.\n",
    "\n",
    "```\n",
    "data_obj = read.CSV(\"gasprices.csv\", set_index = 3)\n",
    "```\n",
    "\n",
    "2.  If some empty line(s) or description present in the beginning of the file, input the number of lines to discard the lines. \n",
    "\n",
    "```\n",
    "data_obj = read.CSV(\"gasprices.csv\", skip_lines = 2)\n",
    "```"
   ]
  }
 ],
 "metadata": {
  "kernelspec": {
   "display_name": "Python 3",
   "language": "python",
   "name": "python3"
  },
  "language_info": {
   "codemirror_mode": {
    "name": "ipython",
    "version": 3
   },
   "file_extension": ".py",
   "mimetype": "text/x-python",
   "name": "python",
   "nbconvert_exporter": "python",
   "pygments_lexer": "ipython3",
   "version": "3.7.3"
  }
 },
 "nbformat": 4,
 "nbformat_minor": 2
}
